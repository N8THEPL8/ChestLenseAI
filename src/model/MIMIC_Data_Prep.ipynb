{
  "cells": [
    {
      "cell_type": "code",
      "execution_count": 1,
      "metadata": {},
      "outputs": [],
      "source": [
        "#Do not run code until all file paths are changed\n",
        "#They are left commented to not accidently modify files\n",
        "\n",
        "import os\n",
        "import shutil\n",
        "import pandas as pd\n",
        "import os\n",
        "import csv\n",
        "import numpy as np\n"
      ]
    },
    {
      "cell_type": "code",
      "execution_count": null,
      "metadata": {},
      "outputs": [],
      "source": [
        "#MIMIC data is structured into 10 folders then each contains sub folders for subject and study\n",
        "#this code combines all jpg images in these sub folders into just one folder\n",
        "\n",
        "\n",
        "# #Traverses base_path folder and copies all jpg images into a new folder\n",
        "\n",
        "# def combine_folder(x):\n",
        "\n",
        "#     base_path = r\"C:\\Users\\Owner\\Documents\\mimic_jpg\\physionet.org\\files\\mimic-cxr-jpg\\2.0.0\\files\\p1\" + str(x)\n",
        "\n",
        "#     for root, dirs, files in os.walk(base_path):\n",
        "#         for name in files:\n",
        "#             if name.endswith((\".jpg\")):\n",
        "#                 file_path = os.path.join(root,name)\n",
        "#                 shutil.copy(file_path, r\"C:\\Users\\Owner\\Documents\\capstone\\Seperated\\p1\" + str(x))\n",
        "\n",
        "\n",
        "# combine_folder(0)\n",
        "# combine_folder(1)\n",
        "# combine_folder(2)\n",
        "# combine_folder(3)\n",
        "# combine_folder(4)\n",
        "# combine_folder(5)\n",
        "# combine_folder(6)\n",
        "# combine_folder(7)\n",
        "# combine_folder(8)\n",
        "# combine_folder(9)\n",
        "\n",
        "\n",
        "# print(\"Done\")"
      ]
    },
    {
      "cell_type": "code",
      "execution_count": null,
      "metadata": {},
      "outputs": [],
      "source": [
        "#MIMIC gives two files mimic-cxr-2.0.0-metadata.csv and mimic-cxr-2.0.0-chexpert.csv this joins the tables on subject_id and study_id\n",
        "#to give image names and true labels in one table for training, testing and validation\n",
        "\n",
        "\n",
        "\n",
        "\n",
        "#df = pandas.read_csv('/content/drive/MyDrive/Shared Capstone/physionet.org/files/mimic-cxr-jpg/2.0.0/mimic-cxr-2.0.0-metadata/mimic-cxr-2.0.0-metadata.csv')\n",
        "#dc = pandas.read_csv('/content/drive/MyDrive/Shared Capstone/physionet.org/files/mimic-cxr-jpg/2.0.0/mimic-cxr-2.0.0-chexpert/mimic-cxr-2.0.0-chexpert.csv')\n",
        "\n",
        "\n",
        "#res = df.merge(dc, on=['subject_id', 'study_id'], how='outer')\n",
        "#print(res)\n",
        "\n",
        "#res.to_csv(\"MODIFIED-mimic-cxr-2.0.0-chexpert.csv\", index=False)"
      ]
    },
    {
      "cell_type": "code",
      "execution_count": 3,
      "metadata": {
        "colab": {
          "base_uri": "https://localhost:8080/"
        },
        "id": "ycBK6YlEgk8Q",
        "outputId": "7177771d-8220-45af-c3f8-cb1c15c774fe"
      },
      "outputs": [],
      "source": [
        "# #This code takes a directory full of jpg images created above and the modified csv created above\n",
        "# #and creates a copy of modified csv that only contains entries for images in the given folder\n",
        "\n",
        "\n",
        "\n",
        "# filenames = []\n",
        "\n",
        "# #folder containing jpg images\n",
        "# directory = \"/home/group18/Data/mimic/train/p10\"\n",
        "\n",
        "# #iterates over every jpg image in the folder and appends everything before .jpg to an list called filnames\n",
        "# for filename in os.listdir(directory):\n",
        "\n",
        "#     filename = filename.partition(\".\")[0]\n",
        "#     filenames.append(filename)\n",
        "\n",
        "\n",
        "# #filepath to midified csv created above\n",
        "# file = \"/home/group18/Data/mimic/csv/Copy-MODIFIED-mimic-cxr-2.0.0-chexpert.csv\"\n",
        "\n",
        "\n",
        "\n",
        "# #name and filepath of new folder\n",
        "# n = open(\"/home/group18/Data/mimic/csv/train/p10.csv\", 'w')\n",
        "# writer = csv.writer(n)\n",
        "\n",
        "# #open old csv and writes all entries that have image name inside of filename into the new csv\n",
        "# with open(file, 'r') as f:\n",
        "#     datareader = csv.reader(f)\n",
        "#     count = 0\n",
        "#     for row in datareader:\n",
        "#       if (count == 0):\n",
        "#         writer.writerow(row)\n",
        "#         count += 1\n",
        "#       if row[0] in filenames:\n",
        "#         writer.writerow(row)\n",
        "\n",
        "\n",
        "# n.close()\n"
      ]
    }
  ],
  "metadata": {
    "colab": {
      "provenance": []
    },
    "kernelspec": {
      "display_name": "Python 3",
      "name": "python3"
    },
    "language_info": {
      "codemirror_mode": {
        "name": "ipython",
        "version": 3
      },
      "file_extension": ".py",
      "mimetype": "text/x-python",
      "name": "python",
      "nbconvert_exporter": "python",
      "pygments_lexer": "ipython3",
      "version": "3.11.5"
    }
  },
  "nbformat": 4,
  "nbformat_minor": 0
}
